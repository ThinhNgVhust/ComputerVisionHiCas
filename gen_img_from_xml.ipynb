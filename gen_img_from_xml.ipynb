{
 "cells": [
  {
   "cell_type": "code",
   "execution_count": 2,
   "metadata": {},
   "outputs": [],
   "source": [
    "import os\n",
    "import numpy as np\n",
    "import cv2\n",
    "from xml.etree import ElementTree"
   ]
  },
  {
   "cell_type": "code",
   "execution_count": null,
   "metadata": {},
   "outputs": [],
   "source": [
    "def gen_img_from_xml_to_file(save_folder):\n",
    "    if not os.path.isdir(save_folder):\n",
    "        os.makedirs(save_folder)\n",
    "    listFiles = os.listdir(\".\")\n",
    "    count = 0\n",
    "    for files in listFiles:\n",
    "        if \".xml\" in files:\n",
    "            dotIndex = files.index(\".\") \n",
    "            imgName = files[0:dotIndex:1] + \".jpg\"\n",
    "            xmldoc = ElementTree.parse(files)\n",
    "            img = cv2.imread(imgName, cv2.IMREAD_GRAYSCALE)\n",
    "            itemlist = xmldoc.findall(\"object\")\n",
    "            for item in itemlist:\n",
    "                if save_folder in item.find(\"name\").text :\n",
    "                    img_dot_infor = item.find(\"bndbox\")\n",
    "                    xmin =  int(img_dot_infor.find(\"xmin\").text)\n",
    "                    ymin =  int(img_dot_infor.find(\"ymin\").text)\n",
    "                    xmax =  int(img_dot_infor.find(\"xmax\").text)\n",
    "                    ymax =  int(img_dot_infor.find(\"ymax\").text)\n",
    "                    subimg = img[ymin:ymax+1,xmin:xmax+1]\n",
    "                    cv2.imwrite(save_folder+ \"/\" +files[0:dotIndex]+item.find(\"name\").text+str(count)+\".jpg\",subimg)\n",
    "                    count+=1"
   ]
  },
  {
   "cell_type": "code",
   "execution_count": null,
   "metadata": {},
   "outputs": [],
   "source": [
    "allLabels = [\"valvegate0\",\n",
    "\"valvegate90\",\n",
    "\"valvecontrol0\",\n",
    "\"valvecontrol90\",\n",
    "\"valvecontrol180\",\n",
    "\"butterfly0\",\n",
    "\"butterfly90\",\n",
    "\"reduce0\",\n",
    "\"reduce90\",\n",
    "\"reduce180\",\n",
    "\"reduce270\",\n",
    "\"NAS\"]"
   ]
  },
  {
   "cell_type": "code",
   "execution_count": null,
   "metadata": {},
   "outputs": [],
   "source": [
    "for label in allLabels:\n",
    "    gen_img_from_xml_to_file(label)"
   ]
  },
  {
   "cell_type": "code",
   "execution_count": 3,
   "metadata": {},
   "outputs": [],
   "source": [
    "img = cv2.imread(\"banana1.jpeg\",1)"
   ]
  },
  {
   "cell_type": "code",
   "execution_count": 4,
   "metadata": {},
   "outputs": [],
   "source": [
    "def rotate_bound(image, angle):\n",
    "    # grab the dimensions of the image and then determine the\n",
    "    # center\n",
    "    (h, w) = image.shape[:2]\n",
    "    (cX, cY) = (w // 2, h // 2)\n",
    "\n",
    "    # grab the rotation matrix (applying the negative of the\n",
    "    # angle to rotate clockwise), then grab the sine and cosine\n",
    "    # (i.e., the rotation components of the matrix)\n",
    "    M = cv2.getRotationMatrix2D((cX, cY), -angle, 1.0)\n",
    "    cos = np.abs(M[0, 0])\n",
    "    sin = np.abs(M[0, 1])\n",
    "\n",
    "    # compute the new bounding dimensions of the image\n",
    "    nW = int((h * sin) + (w * cos))\n",
    "    nH = int((h * cos) + (w * sin))\n",
    "\n",
    "    # adjust the rotation matrix to take into account translation\n",
    "    M[0, 2] += (nW / 2) - cX\n",
    "    M[1, 2] += (nH / 2) - cY\n",
    "\n",
    "    # perform the actual rotation and return the image\n",
    "    return cv2.warpAffine(image, M, (nW, nH))"
   ]
  },
  {
   "cell_type": "code",
   "execution_count": 7,
   "metadata": {},
   "outputs": [
    {
     "data": {
      "text/plain": [
       "True"
      ]
     },
     "execution_count": 7,
     "metadata": {},
     "output_type": "execute_result"
    }
   ],
   "source": [
    "img1 = rotate(img,90)\n",
    "cv2.imwrite(\"rotate.jpg\",img1)\n",
    "img2 = rotate_bound(img,90)\n",
    "cv2.imwrite(\"rotate_bound.jpg\",img2)"
   ]
  },
  {
   "cell_type": "code",
   "execution_count": null,
   "metadata": {},
   "outputs": [],
   "source": []
  }
 ],
 "metadata": {
  "kernelspec": {
   "display_name": "Python 2",
   "language": "python",
   "name": "python2"
  },
  "language_info": {
   "codemirror_mode": {
    "name": "ipython",
    "version": 3
   },
   "file_extension": ".py",
   "mimetype": "text/x-python",
   "name": "python",
   "nbconvert_exporter": "python",
   "pygments_lexer": "ipython3",
   "version": "3.6.7"
  }
 },
 "nbformat": 4,
 "nbformat_minor": 2
}
