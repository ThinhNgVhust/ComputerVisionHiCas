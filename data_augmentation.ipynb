{
 "cells": [
  {
   "cell_type": "code",
   "execution_count": 1,
   "metadata": {},
   "outputs": [],
   "source": [
    "import cv2\n",
    "import os\n",
    "import numpy as np\n",
    "import random"
   ]
  },
  {
   "cell_type": "code",
   "execution_count": 2,
   "metadata": {},
   "outputs": [],
   "source": [
    "def rotate_bound(image, angle):\n",
    "    # grab the dimensions of the image and then determine the\n",
    "    # center\n",
    "    (h, w) = image.shape[:2]\n",
    "    (cX, cY) = (w // 2, h // 2)\n",
    "\n",
    "    # grab the rotation matrix (applying the negative of the\n",
    "    # angle to rotate clockwise), then grab the sine and cosine\n",
    "    # (i.e., the rotation components of the matrix)\n",
    "    M = cv2.getRotationMatrix2D((cX, cY), -angle, 1.0)\n",
    "    cos = np.abs(M[0, 0])\n",
    "    sin = np.abs(M[0, 1])\n",
    "\n",
    "    # compute the new bounding dimensions of the image\n",
    "    nW = int((h * sin) + (w * cos))\n",
    "    nH = int((h * cos) + (w * sin))\n",
    "\n",
    "    # adjust the rotation matrix to take into account translation\n",
    "    M[0, 2] += (nW / 2) - cX\n",
    "    M[1, 2] += (nH / 2) - cY\n",
    "\n",
    "    # perform the actual rotation and return the image\n",
    "    return cv2.warpAffine(image, M, (nW, nH))"
   ]
  },
  {
   "cell_type": "code",
   "execution_count": 3,
   "metadata": {},
   "outputs": [],
   "source": [
    "def augment_data_to_taget(source,target):\n",
    "    listSource = os.listdir(source)\n",
    "    count = 0\n",
    "    for img_source_name in listSource:\n",
    "        img = cv2.imread(os.path.join(source,img_source_name),1)\n",
    "        angle_target = int(''.join(list(filter(str.isdigit, source))))\n",
    "        angle_source = int(''.join(list(filter(str.isdigit, target))))\n",
    "        img1 = rotate_bound(img,angle_target - angle_source)\n",
    "        cv2.imwrite(target + \"/\" + img_source_name[0:img_source_name.index(\".jpg\")] + str(count + random.randint(0,101)) + \".jpg\",img1)\n"
   ]
  },
  {
   "cell_type": "code",
   "execution_count": 4,
   "metadata": {},
   "outputs": [],
   "source": [
    "def augment_data(source,target):\n",
    "    augment_data_to_taget(source,target)\n",
    "    augment_data_to_taget(target,source)"
   ]
  },
  {
   "cell_type": "code",
   "execution_count": 6,
   "metadata": {},
   "outputs": [
    {
     "data": {
      "text/plain": [
       "123"
      ]
     },
     "execution_count": 6,
     "metadata": {},
     "output_type": "execute_result"
    }
   ],
   "source": [
    "int(''.join(list(filter(str.isdigit, \"thinh123\"))))"
   ]
  },
  {
   "cell_type": "code",
   "execution_count": 7,
   "metadata": {},
   "outputs": [],
   "source": [
    "augment_data(\"reduce0\",\"reduce90\")\n",
    "augment_data(\"reduce0\",\"reduce180\")\n",
    "augment_data(\"reduce0\",\"reduce270\")\n",
    "augment_data(\"reduce90\",\"reduce180\")\n",
    "augment_data(\"reduce180\",\"reduce270\")"
   ]
  },
  {
   "cell_type": "code",
   "execution_count": 13,
   "metadata": {},
   "outputs": [],
   "source": [
    "# def augment_data_to_taget1(source,target):\n",
    "#     listSource = os.listdir(source)\n",
    "#     count = 0\n",
    "#     for img_source_name in listSource:\n",
    "#         img = cv2.imread(os.path.join(source,img_source_name),1)\n",
    "#         img1 = rotate_bound(img,180)\n",
    "#         cv2.imwrite(target + \"/\" + img_source_name[0:img_source_name.index(\".jpg\")] + str(count + random.randint(0,101)) + \".jpg\",img1)"
   ]
  },
  {
   "cell_type": "code",
   "execution_count": 14,
   "metadata": {},
   "outputs": [],
   "source": [
    "# augment_data_to_taget1(\"NAS\",\"NAS\")"
   ]
  },
  {
   "cell_type": "code",
   "execution_count": null,
   "metadata": {},
   "outputs": [],
   "source": []
  }
 ],
 "metadata": {
  "kernelspec": {
   "display_name": "Python 2",
   "language": "python",
   "name": "python2"
  },
  "language_info": {
   "codemirror_mode": {
    "name": "ipython",
    "version": 3
   },
   "file_extension": ".py",
   "mimetype": "text/x-python",
   "name": "python",
   "nbconvert_exporter": "python",
   "pygments_lexer": "ipython3",
   "version": "3.6.7"
  }
 },
 "nbformat": 4,
 "nbformat_minor": 2
}
